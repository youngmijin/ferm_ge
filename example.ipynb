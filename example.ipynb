{
 "cells": [
  {
   "cell_type": "code",
   "execution_count": null,
   "metadata": {},
   "outputs": [],
   "source": [
    "%load_ext autoreload\n",
    "%autoreload 2"
   ]
  },
  {
   "cell_type": "code",
   "execution_count": null,
   "metadata": {},
   "outputs": [],
   "source": [
    "import pandas as pd\n",
    "import numpy as np\n",
    "\n",
    "adult_params = {\n",
    "    \"alpha\": [1.0],\n",
    "    \"gamma\": list(np.linspace(0.03, 0.05, 20)),\n",
    "    \"c\": [7.5],\n",
    "    \"a\": [5],\n",
    "    \"nu\": [0.02],\n",
    "    \"lambda_max\": [20.0],\n",
    "}"
   ]
  },
  {
   "cell_type": "code",
   "execution_count": null,
   "metadata": {},
   "outputs": [],
   "source": [
    "from ferm_ge.utils import get_params_combination\n",
    "\n",
    "pd.DataFrame(get_params_combination(adult_params))\n",
    "# wrapping with pd.DataFrame just for tabular display of parameters"
   ]
  },
  {
   "cell_type": "code",
   "execution_count": null,
   "metadata": {},
   "outputs": [],
   "source": [
    "from ferm_ge import Experiment\n",
    "from data.adult import Adult\n",
    "\n",
    "dataset = Adult()\n",
    "\n",
    "adult_exp = Experiment(dataset.applicable_task)\n",
    "\n",
    "adult_exp.task.train(*dataset.get_train_data())\n",
    "adult_exp.task.test(*dataset.get_test_data())\n",
    "\n",
    "adult_results, _, _ = adult_exp.run(adult_params, collect_ge_history=True)"
   ]
  },
  {
   "cell_type": "code",
   "execution_count": null,
   "metadata": {},
   "outputs": [],
   "source": [
    "from ferm_ge.plotting import plot_convergence\n",
    "\n",
    "assert adult_results is not None, \"No results found.\"\n",
    "\n",
    "adult_result_zerokey = list(adult_results.keys())[0]\n",
    "adult_result = {adult_result_zerokey: adult_results[adult_result_zerokey]}\n",
    "\n",
    "plot_convergence(adult_result, \"I_alpha\")\n",
    "plot_convergence(adult_result, \"err\")"
   ]
  },
  {
   "cell_type": "code",
   "execution_count": null,
   "metadata": {},
   "outputs": [],
   "source": [
    "from ferm_ge.metrics import calc_metrics\n",
    "from ferm_ge.plotting import plot_metrics\n",
    "\n",
    "assert adult_results is not None, \"No results found.\"\n",
    "\n",
    "adult_metrics = calc_metrics(adult_results, adult_exp.task, repeat=0)\n",
    "plot_metrics(adult_metrics, \"I_alpha\")\n",
    "plot_metrics(adult_metrics, \"err\")"
   ]
  },
  {
   "cell_type": "code",
   "execution_count": null,
   "metadata": {},
   "outputs": [],
   "source": [
    "assert adult_results is not None, \"No results found.\"\n",
    "\n",
    "adult_metrics_rep = calc_metrics(adult_results, adult_exp.task, repeat=10000)\n",
    "plot_metrics(adult_metrics_rep, \"I_alpha\")\n",
    "plot_metrics(adult_metrics_rep, \"err\")"
   ]
  }
 ],
 "metadata": {
  "kernelspec": {
   "display_name": "ferm-ge-mUKkENEB-py3.10",
   "language": "python",
   "name": "python3"
  },
  "language_info": {
   "codemirror_mode": {
    "name": "ipython",
    "version": 3
   },
   "file_extension": ".py",
   "mimetype": "text/x-python",
   "name": "python",
   "nbconvert_exporter": "python",
   "pygments_lexer": "ipython3",
   "version": "3.10.4 (main, Mar 31 2022, 08:41:55) [GCC 7.5.0]"
  },
  "orig_nbformat": 4,
  "vscode": {
   "interpreter": {
    "hash": "500e204e3c6a65e5f2cc66ccc52c7fe57737ebd68f2b894c851bc68c45a6c991"
   }
  }
 },
 "nbformat": 4,
 "nbformat_minor": 2
}

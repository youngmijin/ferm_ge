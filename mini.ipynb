{
 "cells": [
  {
   "attachments": {},
   "cell_type": "markdown",
   "metadata": {},
   "source": [
    "### Dataset Loading\n",
    "\n",
    "`Adult` class is a wrapper class for the `adult` dataset. It provides a method to load the dataset in form of `numpy.ndarray`."
   ]
  },
  {
   "cell_type": "code",
   "execution_count": null,
   "metadata": {},
   "outputs": [],
   "source": [
    "from data.adult import Adult\n",
    "\n",
    "adult = Adult()\n",
    "train_X, train_y = adult.get_train_data()\n",
    "test_X, test_y = adult.get_test_data()"
   ]
  },
  {
   "attachments": {},
   "cell_type": "markdown",
   "metadata": {},
   "source": [
    "### Task Preparation\n",
    "\n",
    "`BinaryLogisticClassificationTask` class performs binary logistic classification using `sklearn.linear_model.LogisticRegression` class. It provides a method to train the model and evaluate the model. Also, it provides a useful method to get thresholded predictions. Take a look at [tasks.py](./ferm_ge/tasks.py) for more details."
   ]
  },
  {
   "cell_type": "code",
   "execution_count": null,
   "metadata": {},
   "outputs": [],
   "source": [
    "from ferm_ge.tasks import BinaryLogisticClassificationTask\n",
    "\n",
    "task = BinaryLogisticClassificationTask()\n",
    "task.train(train_X, train_y)\n",
    "task.test(test_X, test_y)"
   ]
  },
  {
   "attachments": {},
   "cell_type": "markdown",
   "metadata": {},
   "source": [
    "### Parameter Definition"
   ]
  },
  {
   "cell_type": "code",
   "execution_count": null,
   "metadata": {},
   "outputs": [],
   "source": [
    "import numpy as np\n",
    "from typing import List\n",
    "\n",
    "alpha = 1.0\n",
    "a = 5\n",
    "c = 7.5\n",
    "gamma = 0.04\n",
    "nu = 0.01\n",
    "lambda_max = 20.0\n",
    "\n",
    "thr_candidates: List[float] = np.linspace(0.0, 1.0, 200).tolist()"
   ]
  },
  {
   "attachments": {},
   "cell_type": "markdown",
   "metadata": {},
   "source": [
    "### (Implementation Hack) Helper Variables Calculation\n",
    "\n",
    "Our implementation utilizes pre-calculated `I_alpha` and `err` values for faster computation.\n",
    "Those two values differ for each `alpha` and `r` value."
   ]
  },
  {
   "cell_type": "code",
   "execution_count": null,
   "metadata": {},
   "outputs": [],
   "source": [
    "from ferm_ge.algorithm_ge import ge_confmat\n",
    "\n",
    "I_alpha_cache = []\n",
    "err_cache = []\n",
    "\n",
    "for thr in thr_candidates:\n",
    "    _, confmat = task.predict_train_with_threshold(thr)\n",
    "    tn, fp, fn, tp = confmat.astype(float)\n",
    "    err: float = (fp + fn) / (tn + fp + fn + tp)\n",
    "    err_cache.append(err)\n",
    "    I_alpha: float = ge_confmat(alpha, c, a, tn, fp, fn, tp)\n",
    "    I_alpha_cache.append(I_alpha)"
   ]
  },
  {
   "attachments": {},
   "cell_type": "markdown",
   "metadata": {},
   "source": [
    "### FERM-GE Solver Initialization"
   ]
  },
  {
   "cell_type": "code",
   "execution_count": null,
   "metadata": {},
   "outputs": [],
   "source": [
    "from ferm_ge.algorithm_gefair import GEFairSolverC\n",
    "\n",
    "lib_path = GEFairSolverC.compile_gefair()\n",
    "solver = GEFairSolverC(lib_path)"
   ]
  },
  {
   "attachments": {},
   "cell_type": "markdown",
   "metadata": {},
   "source": [
    "### Problem Solving\n",
    "\n",
    "For memory efficiency, by default, `I_alpha` and `err` history during training time is not collected. But in this case, to show how to use the API, we collect them by setting `collect_ge_history=True`."
   ]
  },
  {
   "cell_type": "code",
   "execution_count": null,
   "metadata": {},
   "outputs": [],
   "source": [
    "gefair_result = solver.solve_gefair(\n",
    "    thr_candidates,\n",
    "    I_alpha_cache,\n",
    "    err_cache,\n",
    "    alpha,\n",
    "    lambda_max,\n",
    "    nu,\n",
    "    c,\n",
    "    a,\n",
    "    gamma,\n",
    "    collect_ge_history=True,\n",
    ")"
   ]
  },
  {
   "attachments": {},
   "cell_type": "markdown",
   "metadata": {},
   "source": [
    "### Metrics Calculation\n",
    "\n",
    "In our implementation, we utilizes `frozenset` to represent a set of parameters, so-called `frozenkey`. This can be converted to dictionary using `ferm_ge.utils.frozenkey_to_paramdict` function, and `ferm_ge.utils.paramdict_to_frozenkey` vice versa. All built-in metric calculation functions and plotting functions are designed to work with `frozenkey` and `paramdict` to pass multiple experiments' results at once.\n",
    "Note that there are two kinds of metrics: `I_alpha` and `err`."
   ]
  },
  {
   "cell_type": "code",
   "execution_count": null,
   "metadata": {},
   "outputs": [],
   "source": [
    "from ferm_ge.utils import paramdict_to_frozenkey\n",
    "from ferm_ge.metrics import calc_metrics\n",
    "\n",
    "key = paramdict_to_frozenkey(\n",
    "    {\n",
    "        \"alpha\": alpha,\n",
    "        \"c\": c,\n",
    "        \"a\": a,\n",
    "        \"gamma\": gamma,\n",
    "        \"nu\": nu,\n",
    "        \"lambda_max\": lambda_max,\n",
    "    }\n",
    ")\n",
    "\n",
    "gefair_metrics = calc_metrics(\n",
    "    {key: gefair_result},\n",
    "    task,\n",
    "    repeat=0,\n",
    ")\n",
    "\n",
    "print(\"I_alpha\", gefair_metrics[key].I_alpha)\n",
    "print(\"err\", gefair_metrics[key].err)"
   ]
  },
  {
   "attachments": {},
   "cell_type": "markdown",
   "metadata": {},
   "source": [
    "### Convergence Plotting"
   ]
  },
  {
   "cell_type": "code",
   "execution_count": null,
   "metadata": {},
   "outputs": [],
   "source": [
    "from ferm_ge.plotting import plot_convergence\n",
    "\n",
    "plot_convergence({key: gefair_result}, \"I_alpha\");\n",
    "plot_convergence({key: gefair_result}, \"err\");"
   ]
  },
  {
   "cell_type": "code",
   "execution_count": null,
   "metadata": {},
   "outputs": [],
   "source": []
  }
 ],
 "metadata": {
  "kernelspec": {
   "display_name": "ferm-ge-mUKkENEB-py3.10",
   "language": "python",
   "name": "python3"
  },
  "language_info": {
   "codemirror_mode": {
    "name": "ipython",
    "version": 3
   },
   "file_extension": ".py",
   "mimetype": "text/x-python",
   "name": "python",
   "nbconvert_exporter": "python",
   "pygments_lexer": "ipython3",
   "version": "3.10.4 (main, Mar 31 2022, 08:41:55) [GCC 7.5.0]"
  },
  "orig_nbformat": 4,
  "vscode": {
   "interpreter": {
    "hash": "500e204e3c6a65e5f2cc66ccc52c7fe57737ebd68f2b894c851bc68c45a6c991"
   }
  }
 },
 "nbformat": 4,
 "nbformat_minor": 2
}

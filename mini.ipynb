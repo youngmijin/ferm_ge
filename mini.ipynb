{
 "cells": [
  {
   "cell_type": "code",
   "execution_count": null,
   "metadata": {},
   "outputs": [],
   "source": [
    "from data.adult import Adult\n",
    "\n",
    "adult = Adult()\n",
    "train_X, train_y = adult.get_train_data()\n",
    "test_X, test_y = adult.get_test_data()\n",
    "\n",
    "task = adult.applicable_task()\n",
    "task.train(train_X, train_y)\n",
    "task.test(test_X, test_y)"
   ]
  },
  {
   "cell_type": "code",
   "execution_count": null,
   "metadata": {},
   "outputs": [],
   "source": [
    "import numpy as np\n",
    "from typing import List\n",
    "\n",
    "alpha = 1.0\n",
    "r = 1.7\n",
    "gamma = 0.04\n",
    "nu = 0.01\n",
    "lambda_max = 20.0\n",
    "\n",
    "thr_candidates: List[float] = np.linspace(0.0, 1.0, 200).tolist()"
   ]
  },
  {
   "cell_type": "code",
   "execution_count": null,
   "metadata": {},
   "outputs": [],
   "source": [
    "from ferm_ge.algorithm_ge import ge_confmat\n",
    "\n",
    "I_alpha_cache = []\n",
    "err_cache = []\n",
    "\n",
    "for thr in thr_candidates:\n",
    "    _, confmat = task.predict_train_with_threshold(thr)\n",
    "    tn, fp, fn, tp = confmat.astype(float)\n",
    "    err: float = (fp + fn) / (tn + fp + fn + tp)\n",
    "    err_cache.append(err)\n",
    "    I_alpha: float = ge_confmat(alpha, r, tn, fp, fn, tp)\n",
    "    I_alpha_cache.append(I_alpha)"
   ]
  },
  {
   "cell_type": "code",
   "execution_count": null,
   "metadata": {},
   "outputs": [],
   "source": [
    "from ferm_ge.algorithm_gefair import GEFairSolverC\n",
    "\n",
    "lib_path = GEFairSolverC.compile_gefair()\n",
    "solver = GEFairSolverC(lib_path)"
   ]
  },
  {
   "cell_type": "code",
   "execution_count": null,
   "metadata": {},
   "outputs": [],
   "source": [
    "gefair_result = solver.solve_gefair(\n",
    "    thr_candidates,\n",
    "    I_alpha_cache,\n",
    "    err_cache,\n",
    "    alpha,\n",
    "    lambda_max,\n",
    "    nu,\n",
    "    r,\n",
    "    gamma,\n",
    "    collect_ge_history=True,\n",
    ")"
   ]
  },
  {
   "cell_type": "code",
   "execution_count": null,
   "metadata": {},
   "outputs": [],
   "source": [
    "from ferm_ge.utils import paramdict_to_frozenkey\n",
    "from ferm_ge.metrics import calc_metrics\n",
    "\n",
    "key = paramdict_to_frozenkey(\n",
    "    {\n",
    "        \"alpha\": alpha,\n",
    "        \"r\": r,\n",
    "        \"gamma\": gamma,\n",
    "        \"nu\": nu,\n",
    "        \"lambda_max\": lambda_max,\n",
    "    }\n",
    ")\n",
    "\n",
    "gefair_metrics = calc_metrics(\n",
    "    {key: gefair_result},\n",
    "    task,\n",
    "    repeat=0,\n",
    ")\n",
    "\n",
    "print(\"I_alpha\", gefair_metrics[key].I_alpha)\n",
    "print(\"err\", gefair_metrics[key].err)"
   ]
  },
  {
   "cell_type": "code",
   "execution_count": null,
   "metadata": {},
   "outputs": [],
   "source": [
    "from ferm_ge.plotting import plot_convergence\n",
    "\n",
    "plot_convergence({key: gefair_result}, \"I_alpha\");\n",
    "plot_convergence({key: gefair_result}, \"err\");"
   ]
  },
  {
   "cell_type": "code",
   "execution_count": null,
   "metadata": {},
   "outputs": [],
   "source": []
  }
 ],
 "metadata": {
  "kernelspec": {
   "display_name": "ferm-ge-mUKkENEB-py3.10",
   "language": "python",
   "name": "python3"
  },
  "language_info": {
   "codemirror_mode": {
    "name": "ipython",
    "version": 3
   },
   "file_extension": ".py",
   "mimetype": "text/x-python",
   "name": "python",
   "nbconvert_exporter": "python",
   "pygments_lexer": "ipython3",
   "version": "3.10.4"
  },
  "orig_nbformat": 4,
  "vscode": {
   "interpreter": {
    "hash": "500e204e3c6a65e5f2cc66ccc52c7fe57737ebd68f2b894c851bc68c45a6c991"
   }
  }
 },
 "nbformat": 4,
 "nbformat_minor": 2
}

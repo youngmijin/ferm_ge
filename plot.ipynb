{
 "cells": [
  {
   "cell_type": "code",
   "execution_count": null,
   "metadata": {},
   "outputs": [],
   "source": [
    "%load_ext autoreload\n",
    "%autoreload 2"
   ]
  },
  {
   "cell_type": "code",
   "execution_count": null,
   "metadata": {},
   "outputs": [],
   "source": [
    "import pandas as pd\n",
    "import numpy as np\n",
    "\n",
    "adult_params = {\n",
    "    \"alpha\": [1.0],\n",
    "    \"gamma\": list(np.linspace(0.02, 0.05, 30)),\n",
    "    \"r\": [0.03],\n",
    "    \"nu\": [0.04],\n",
    "    \"lambda_max\": [10.0],\n",
    "}"
   ]
  },
  {
   "cell_type": "code",
   "execution_count": null,
   "metadata": {},
   "outputs": [],
   "source": [
    "from ferm_ge.utils import get_params_combination\n",
    "\n",
    "pd.DataFrame(get_params_combination(adult_params))\n",
    "# wrapping with pd.DataFrame just for tabular display"
   ]
  },
  {
   "cell_type": "code",
   "execution_count": null,
   "metadata": {},
   "outputs": [],
   "source": [
    "from ferm_ge import Experiment\n",
    "from data.adult import Adult\n",
    "\n",
    "preset = Adult()\n",
    "\n",
    "adult_exp = Experiment(preset.applicable_task)\n",
    "\n",
    "adult_exp.task.train(*preset.get_train_data())\n",
    "adult_exp.task.test(*preset.get_test_data())\n",
    "\n",
    "adult_results = adult_exp.solve(adult_params)"
   ]
  },
  {
   "cell_type": "code",
   "execution_count": null,
   "metadata": {},
   "outputs": [],
   "source": [
    "adult_metrics = adult_exp.get_metrics_with_prob(adult_results)"
   ]
  },
  {
   "cell_type": "code",
   "execution_count": null,
   "metadata": {},
   "outputs": [],
   "source": [
    "adult_exp.plot_metrics(adult_metrics, \"I_alpha\")"
   ]
  },
  {
   "cell_type": "code",
   "execution_count": null,
   "metadata": {},
   "outputs": [],
   "source": [
    "adult_exp.plot_metrics(adult_metrics, \"err\")"
   ]
  },
  {
   "cell_type": "code",
   "execution_count": null,
   "metadata": {},
   "outputs": [],
   "source": [
    "adult_metrics_rep = adult_exp.get_metrics_with_repeat(adult_results)"
   ]
  },
  {
   "cell_type": "code",
   "execution_count": null,
   "metadata": {},
   "outputs": [],
   "source": [
    "adult_exp.plot_metrics(adult_metrics_rep, \"I_alpha\")"
   ]
  },
  {
   "cell_type": "code",
   "execution_count": null,
   "metadata": {},
   "outputs": [],
   "source": [
    "adult_exp.plot_metrics(adult_metrics_rep, \"err\")"
   ]
  },
  {
   "cell_type": "code",
   "execution_count": null,
   "metadata": {},
   "outputs": [],
   "source": []
  }
 ],
 "metadata": {
  "kernelspec": {
   "display_name": "ferm-ge-d03ARtr4-py3.10",
   "language": "python",
   "name": "python3"
  },
  "language_info": {
   "codemirror_mode": {
    "name": "ipython",
    "version": 3
   },
   "file_extension": ".py",
   "mimetype": "text/x-python",
   "name": "python",
   "nbconvert_exporter": "python",
   "pygments_lexer": "ipython3",
   "version": "3.10.6 (main, Nov  2 2022, 18:53:38) [GCC 11.3.0]"
  },
  "orig_nbformat": 4,
  "vscode": {
   "interpreter": {
    "hash": "419cca48117cb423c68376719495bd3be44e3738db645ee8122dabeb4db236ca"
   }
  }
 },
 "nbformat": 4,
 "nbformat_minor": 2
}

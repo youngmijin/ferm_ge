{
 "cells": [
  {
   "cell_type": "code",
   "execution_count": null,
   "metadata": {},
   "outputs": [],
   "source": [
    "%load_ext autoreload\n",
    "%autoreload 2"
   ]
  },
  {
   "cell_type": "code",
   "execution_count": null,
   "metadata": {},
   "outputs": [],
   "source": [
    "import pandas as pd\n",
    "import numpy as np\n",
    "\n",
    "adult_params = {\n",
    "    \"alpha\": [1.0],\n",
    "    \"gamma\": list(np.linspace(0.03, 0.04, 20)),\n",
    "    \"r\": [1.5],\n",
    "    \"nu\": [0.04],\n",
    "    \"lambda_max\": [10.0],\n",
    "}"
   ]
  },
  {
   "cell_type": "code",
   "execution_count": null,
   "metadata": {},
   "outputs": [],
   "source": [
    "from ferm_ge.utils import get_params_combination\n",
    "\n",
    "pd.DataFrame(get_params_combination(adult_params))\n",
    "# wrapping with pd.DataFrame just for tabular display of parameters"
   ]
  },
  {
   "cell_type": "code",
   "execution_count": null,
   "metadata": {},
   "outputs": [],
   "source": [
    "from ferm_ge import Experiment\n",
    "from data.adult import Adult\n",
    "\n",
    "preset = Adult()\n",
    "\n",
    "adult_exp = Experiment(preset.applicable_task)\n",
    "\n",
    "adult_exp.task.train(*preset.get_train_data())\n",
    "adult_exp.task.test(*preset.get_test_data())\n",
    "\n",
    "adult_results = adult_exp.solve(adult_params)"
   ]
  },
  {
   "cell_type": "code",
   "execution_count": null,
   "metadata": {},
   "outputs": [],
   "source": [
    "from ferm_ge.plotting import plot_line\n",
    "\n",
    "adult_metrics = adult_exp.get_metrics_with_prob(adult_results)\n",
    "plot_line(adult_metrics, \"I_alpha\")\n",
    "plot_line(adult_metrics, \"err\")"
   ]
  },
  {
   "cell_type": "code",
   "execution_count": null,
   "metadata": {},
   "outputs": [],
   "source": [
    "adult_metrics_rep = adult_exp.get_metrics_with_repeat(adult_results)\n",
    "plot_line(adult_metrics_rep, \"I_alpha\")\n",
    "plot_line(adult_metrics_rep, \"err\")"
   ]
  },
  {
   "cell_type": "code",
   "execution_count": null,
   "metadata": {},
   "outputs": [],
   "source": []
  }
 ],
 "metadata": {
  "kernelspec": {
   "display_name": "base",
   "language": "python",
   "name": "python3"
  },
  "language_info": {
   "codemirror_mode": {
    "name": "ipython",
    "version": 3
   },
   "file_extension": ".py",
   "mimetype": "text/x-python",
   "name": "python",
   "nbconvert_exporter": "python",
   "pygments_lexer": "ipython3",
   "version": "3.10.4 (main, Mar 31 2022, 08:41:55) [GCC 7.5.0]"
  },
  "orig_nbformat": 4,
  "vscode": {
   "interpreter": {
    "hash": "7bd351fb360c522372f9c079eba7362052b056c28998884c2fda19a163feb0d7"
   }
  }
 },
 "nbformat": 4,
 "nbformat_minor": 2
}

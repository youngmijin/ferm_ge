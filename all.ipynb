{
 "cells": [
  {
   "cell_type": "code",
   "execution_count": 1,
   "metadata": {},
   "outputs": [],
   "source": [
    "%load_ext autoreload\n",
    "%autoreload 2"
   ]
  },
  {
   "cell_type": "code",
   "execution_count": 3,
   "metadata": {},
   "outputs": [],
   "source": [
    "# import only frequently used modules\n",
    "from typing import Dict, List\n",
    "\n",
    "import matplotlib.pyplot as plt\n",
    "import numpy as np\n",
    "import pandas as pd"
   ]
  },
  {
   "attachments": {},
   "cell_type": "markdown",
   "metadata": {},
   "source": [
    "### Adult Dataset"
   ]
  },
  {
   "attachments": {},
   "cell_type": "markdown",
   "metadata": {},
   "source": [
    "##### **[Adult-1]** Dataset Preparation"
   ]
  },
  {
   "cell_type": "code",
   "execution_count": 4,
   "metadata": {},
   "outputs": [],
   "source": [
    "adult = pd.read_csv(\"./data/adult.csv\")\n",
    "adult = adult.drop(columns=[\"fnlwgt\"])\n",
    "adult = adult.replace({\"?\": np.nan})\n",
    "adult = adult.dropna()\n",
    "adult = adult.replace({\"<=50K\": 0, \">50K\": 1})\n",
    "adult = adult.reset_index(drop=True)"
   ]
  },
  {
   "cell_type": "code",
   "execution_count": 6,
   "metadata": {},
   "outputs": [],
   "source": [
    "from sklearn.model_selection import train_test_split\n",
    "\n",
    "X = adult.drop(columns=[\"income\"])\n",
    "y = adult[\"income\"]\n",
    "\n",
    "X_train_, X_test_, y_train_, y_test_ = train_test_split(\n",
    "    X, y, test_size=0.2, random_state=42\n",
    ")"
   ]
  },
  {
   "cell_type": "code",
   "execution_count": 7,
   "metadata": {},
   "outputs": [],
   "source": [
    "# transform categorical features to one-hot encoding, and scale numerical features\n",
    "from sklearn.compose import ColumnTransformer\n",
    "from sklearn.preprocessing import OneHotEncoder, StandardScaler\n",
    "\n",
    "categorical_features = X.select_dtypes(include=[\"object\", \"bool\"]).columns\n",
    "categorical_transformer = OneHotEncoder(handle_unknown=\"ignore\")\n",
    "\n",
    "numerical_features = X.select_dtypes(include=[\"int64\", \"float64\"]).columns\n",
    "numerical_transformer = StandardScaler()\n",
    "\n",
    "preprocessor = ColumnTransformer(\n",
    "    transformers=[\n",
    "        (\"cat\", categorical_transformer, categorical_features),\n",
    "        (\"num\", numerical_transformer, numerical_features),\n",
    "    ]\n",
    ")\n",
    "\n",
    "X_train: np.ndarray = preprocessor.fit_transform(X_train_).A  # type: ignore\n",
    "X_test: np.ndarray = preprocessor.transform(X_test_).A  # type: ignore\n",
    "\n",
    "y_train: np.ndarray = y_train_.to_numpy()  # type: ignore\n",
    "y_test: np.ndarray = y_test_.to_numpy()  # type: ignore"
   ]
  },
  {
   "attachments": {},
   "cell_type": "markdown",
   "metadata": {},
   "source": [
    "✅ now `X_train`, `X_test`, `y_train`, `y_test` are prepared\n",
    "\n",
    "##### **[Adult-2]** Experiment"
   ]
  },
  {
   "cell_type": "code",
   "execution_count": 8,
   "metadata": {},
   "outputs": [
    {
     "data": {
      "text/html": [
       "<div>\n",
       "<style scoped>\n",
       "    .dataframe tbody tr th:only-of-type {\n",
       "        vertical-align: middle;\n",
       "    }\n",
       "\n",
       "    .dataframe tbody tr th {\n",
       "        vertical-align: top;\n",
       "    }\n",
       "\n",
       "    .dataframe thead th {\n",
       "        text-align: right;\n",
       "    }\n",
       "</style>\n",
       "<table border=\"1\" class=\"dataframe\">\n",
       "  <thead>\n",
       "    <tr style=\"text-align: right;\">\n",
       "      <th></th>\n",
       "      <th>alpha</th>\n",
       "      <th>gamma</th>\n",
       "      <th>r</th>\n",
       "      <th>nu</th>\n",
       "      <th>lambda_max</th>\n",
       "    </tr>\n",
       "  </thead>\n",
       "  <tbody>\n",
       "    <tr>\n",
       "      <th>0</th>\n",
       "      <td>0.0</td>\n",
       "      <td>0.001</td>\n",
       "      <td>5.0</td>\n",
       "      <td>0.04</td>\n",
       "      <td>10.0</td>\n",
       "    </tr>\n",
       "    <tr>\n",
       "      <th>1</th>\n",
       "      <td>0.0</td>\n",
       "      <td>0.022</td>\n",
       "      <td>5.0</td>\n",
       "      <td>0.04</td>\n",
       "      <td>10.0</td>\n",
       "    </tr>\n",
       "    <tr>\n",
       "      <th>2</th>\n",
       "      <td>0.0</td>\n",
       "      <td>0.043</td>\n",
       "      <td>5.0</td>\n",
       "      <td>0.04</td>\n",
       "      <td>10.0</td>\n",
       "    </tr>\n",
       "    <tr>\n",
       "      <th>3</th>\n",
       "      <td>0.0</td>\n",
       "      <td>0.064</td>\n",
       "      <td>5.0</td>\n",
       "      <td>0.04</td>\n",
       "      <td>10.0</td>\n",
       "    </tr>\n",
       "    <tr>\n",
       "      <th>4</th>\n",
       "      <td>0.0</td>\n",
       "      <td>0.085</td>\n",
       "      <td>5.0</td>\n",
       "      <td>0.04</td>\n",
       "      <td>10.0</td>\n",
       "    </tr>\n",
       "    <tr>\n",
       "      <th>5</th>\n",
       "      <td>0.0</td>\n",
       "      <td>0.106</td>\n",
       "      <td>5.0</td>\n",
       "      <td>0.04</td>\n",
       "      <td>10.0</td>\n",
       "    </tr>\n",
       "    <tr>\n",
       "      <th>6</th>\n",
       "      <td>0.0</td>\n",
       "      <td>0.127</td>\n",
       "      <td>5.0</td>\n",
       "      <td>0.04</td>\n",
       "      <td>10.0</td>\n",
       "    </tr>\n",
       "    <tr>\n",
       "      <th>7</th>\n",
       "      <td>0.0</td>\n",
       "      <td>0.148</td>\n",
       "      <td>5.0</td>\n",
       "      <td>0.04</td>\n",
       "      <td>10.0</td>\n",
       "    </tr>\n",
       "    <tr>\n",
       "      <th>8</th>\n",
       "      <td>0.0</td>\n",
       "      <td>0.169</td>\n",
       "      <td>5.0</td>\n",
       "      <td>0.04</td>\n",
       "      <td>10.0</td>\n",
       "    </tr>\n",
       "    <tr>\n",
       "      <th>9</th>\n",
       "      <td>0.0</td>\n",
       "      <td>0.190</td>\n",
       "      <td>5.0</td>\n",
       "      <td>0.04</td>\n",
       "      <td>10.0</td>\n",
       "    </tr>\n",
       "    <tr>\n",
       "      <th>10</th>\n",
       "      <td>0.0</td>\n",
       "      <td>0.211</td>\n",
       "      <td>5.0</td>\n",
       "      <td>0.04</td>\n",
       "      <td>10.0</td>\n",
       "    </tr>\n",
       "    <tr>\n",
       "      <th>11</th>\n",
       "      <td>0.0</td>\n",
       "      <td>0.232</td>\n",
       "      <td>5.0</td>\n",
       "      <td>0.04</td>\n",
       "      <td>10.0</td>\n",
       "    </tr>\n",
       "    <tr>\n",
       "      <th>12</th>\n",
       "      <td>0.0</td>\n",
       "      <td>0.253</td>\n",
       "      <td>5.0</td>\n",
       "      <td>0.04</td>\n",
       "      <td>10.0</td>\n",
       "    </tr>\n",
       "    <tr>\n",
       "      <th>13</th>\n",
       "      <td>0.0</td>\n",
       "      <td>0.274</td>\n",
       "      <td>5.0</td>\n",
       "      <td>0.04</td>\n",
       "      <td>10.0</td>\n",
       "    </tr>\n",
       "    <tr>\n",
       "      <th>14</th>\n",
       "      <td>0.0</td>\n",
       "      <td>0.295</td>\n",
       "      <td>5.0</td>\n",
       "      <td>0.04</td>\n",
       "      <td>10.0</td>\n",
       "    </tr>\n",
       "    <tr>\n",
       "      <th>15</th>\n",
       "      <td>0.0</td>\n",
       "      <td>0.316</td>\n",
       "      <td>5.0</td>\n",
       "      <td>0.04</td>\n",
       "      <td>10.0</td>\n",
       "    </tr>\n",
       "    <tr>\n",
       "      <th>16</th>\n",
       "      <td>0.0</td>\n",
       "      <td>0.337</td>\n",
       "      <td>5.0</td>\n",
       "      <td>0.04</td>\n",
       "      <td>10.0</td>\n",
       "    </tr>\n",
       "    <tr>\n",
       "      <th>17</th>\n",
       "      <td>0.0</td>\n",
       "      <td>0.358</td>\n",
       "      <td>5.0</td>\n",
       "      <td>0.04</td>\n",
       "      <td>10.0</td>\n",
       "    </tr>\n",
       "    <tr>\n",
       "      <th>18</th>\n",
       "      <td>0.0</td>\n",
       "      <td>0.379</td>\n",
       "      <td>5.0</td>\n",
       "      <td>0.04</td>\n",
       "      <td>10.0</td>\n",
       "    </tr>\n",
       "    <tr>\n",
       "      <th>19</th>\n",
       "      <td>0.0</td>\n",
       "      <td>0.400</td>\n",
       "      <td>5.0</td>\n",
       "      <td>0.04</td>\n",
       "      <td>10.0</td>\n",
       "    </tr>\n",
       "  </tbody>\n",
       "</table>\n",
       "</div>"
      ],
      "text/plain": [
       "    alpha  gamma    r    nu  lambda_max\n",
       "0     0.0  0.001  5.0  0.04        10.0\n",
       "1     0.0  0.022  5.0  0.04        10.0\n",
       "2     0.0  0.043  5.0  0.04        10.0\n",
       "3     0.0  0.064  5.0  0.04        10.0\n",
       "4     0.0  0.085  5.0  0.04        10.0\n",
       "5     0.0  0.106  5.0  0.04        10.0\n",
       "6     0.0  0.127  5.0  0.04        10.0\n",
       "7     0.0  0.148  5.0  0.04        10.0\n",
       "8     0.0  0.169  5.0  0.04        10.0\n",
       "9     0.0  0.190  5.0  0.04        10.0\n",
       "10    0.0  0.211  5.0  0.04        10.0\n",
       "11    0.0  0.232  5.0  0.04        10.0\n",
       "12    0.0  0.253  5.0  0.04        10.0\n",
       "13    0.0  0.274  5.0  0.04        10.0\n",
       "14    0.0  0.295  5.0  0.04        10.0\n",
       "15    0.0  0.316  5.0  0.04        10.0\n",
       "16    0.0  0.337  5.0  0.04        10.0\n",
       "17    0.0  0.358  5.0  0.04        10.0\n",
       "18    0.0  0.379  5.0  0.04        10.0\n",
       "19    0.0  0.400  5.0  0.04        10.0"
      ]
     },
     "execution_count": 8,
     "metadata": {},
     "output_type": "execute_result"
    }
   ],
   "source": [
    "from utils import get_params_combination\n",
    "\n",
    "adult_params = get_params_combination({\n",
    "    \"alpha\": [0.0],\n",
    "    \"gamma\": list(np.linspace(0.001, 0.4, 20)),\n",
    "    \"r\": [5.0],\n",
    "    \"nu\": [0.04],\n",
    "    \"lambda_max\": [10.0],\n",
    "})\n",
    "\n",
    "pd.DataFrame(adult_params)  # wrapping with pd.DataFrame just for tabular display"
   ]
  },
  {
   "cell_type": "code",
   "execution_count": 9,
   "metadata": {},
   "outputs": [
    {
     "name": "stderr",
     "output_type": "stream",
     "text": [
      "5 / 20 [1] Generating oracle caches: 100%|██████████| 200/200 [02:35<00:00,  1.29it/s]]\n",
      "5 / 20 [2] Generating lagrangian caches: 200it [00:00, 3882.77it/s]\n"
     ]
    },
    {
     "name": "stdout",
     "output_type": "stream",
     "text": [
      "5 / 20 [3] Solving:   0%|          | 0/60416 [00:00<?, ?it/s]"
     ]
    },
    {
     "name": "stderr",
     "output_type": "stream",
     "text": [
      "9 / 20 [1] Generating oracle caches: 100%|██████████| 200/200 [02:35<00:00,  1.29it/s]\n",
      "11 / 20 [1] Generating oracle caches: 100%|██████████| 200/200 [02:35<00:00,  1.29it/s]\n",
      "9 / 20 [2] Generating lagrangian caches: 200it [00:00, 4023.24it/s]\n"
     ]
    },
    {
     "name": "stdout",
     "output_type": "stream",
     "text": [
      "9 / 20 [3] Solving:   0%|          | 0/78828 [00:00<?, ?it/s]"
     ]
    },
    {
     "name": "stderr",
     "output_type": "stream",
     "text": [
      "10 / 20 [1] Generating oracle caches: 100%|██████████| 200/200 [02:35<00:00,  1.29it/s]\n",
      "10 / 20 [2] Generating lagrangian caches: 0it [00:00, ?it/s]"
     ]
    },
    {
     "name": "stdout",
     "output_type": "stream",
     "text": [
      "5 / 20 [3] Solving:  10%|▉         | 5990/60416 [00:00<00:00, 59890.78it/s]"
     ]
    },
    {
     "name": "stderr",
     "output_type": "stream",
     "text": [
      "11 / 20 [2] Generating lagrangian caches: 200it [00:00, 5410.64it/s]\n"
     ]
    },
    {
     "name": "stdout",
     "output_type": "stream",
     "text": [
      "11 / 20 [3] Solving:   0%|          | 0/88951 [00:00<?, ?it/s]"
     ]
    },
    {
     "name": "stderr",
     "output_type": "stream",
     "text": [
      "3 / 20 [1] Generating oracle caches: 100%|██████████| 200/200 [02:35<00:00,  1.29it/s]\n",
      "1 / 20 [1] Generating oracle caches: 100%|██████████| 200/200 [02:35<00:00,  1.29it/s]\n",
      "20 / 20 [1] Generating oracle caches: 100%|██████████| 200/200 [02:35<00:00,  1.29it/s]\n",
      "10 / 20 [2] Generating lagrangian caches: 200it [00:00, 2710.90it/s]\n"
     ]
    },
    {
     "name": "stdout",
     "output_type": "stream",
     "text": [
      "9 / 20 [3] Solving:   8%|▊         | 6029/78828 [00:00<00:01, 60263.62it/s]"
     ]
    },
    {
     "name": "stderr",
     "output_type": "stream",
     "text": [
      "18 / 20 [1] Generating oracle caches: 100%|██████████| 200/200 [02:35<00:00,  1.29it/s]\n",
      "18 / 20 [2] Generating lagrangian caches: 0it [00:00, ?it/s]"
     ]
    },
    {
     "name": "stdout",
     "output_type": "stream",
     "text": [
      "11 / 20 [3] Solving:   6%|▋         | 5623/88951 [00:00<00:01, 56222.01it/s]"
     ]
    },
    {
     "name": "stderr",
     "output_type": "stream",
     "text": [
      "1 / 20 [2] Generating lagrangian caches: 200it [00:00, 2109.52it/s]\n"
     ]
    },
    {
     "name": "stdout",
     "output_type": "stream",
     "text": [
      "1 / 20 [3] Solving:   0%|          | 0/44449 [00:00<?, ?it/s]"
     ]
    },
    {
     "name": "stderr",
     "output_type": "stream",
     "text": [
      "20 / 20 [2] Generating lagrangian caches: 200it [00:00, 2670.71it/s]\n"
     ]
    },
    {
     "name": "stdout",
     "output_type": "stream",
     "text": [
      "20 / 20 [3] Solving:   0%|          | 0/142072 [00:00<?, ?it/s]"
     ]
    },
    {
     "name": "stderr",
     "output_type": "stream",
     "text": [
      "3 / 20 [2] Generating lagrangian caches: 200it [00:00, 1746.76it/s]\n"
     ]
    },
    {
     "name": "stdout",
     "output_type": "stream",
     "text": [
      "3 / 20 [3] Solving:   0%|          | 0/52127 [00:00<?, ?it/s]"
     ]
    },
    {
     "name": "stderr",
     "output_type": "stream",
     "text": [
      "16 / 20 [1] Generating oracle caches: 100%|██████████| 200/200 [02:35<00:00,  1.29it/s]\n",
      "18 / 20 [2] Generating lagrangian caches: 200it [00:00, 3824.32it/s]\n"
     ]
    },
    {
     "name": "stdout",
     "output_type": "stream",
     "text": [
      "18 / 20 [3] Solving:   0%|          | 0/129197 [00:00<?, ?it/s]"
     ]
    },
    {
     "name": "stderr",
     "output_type": "stream",
     "text": [
      "16 / 20 [2] Generating lagrangian caches: 200it [00:00, 5400.12it/s]\n"
     ]
    },
    {
     "name": "stdout",
     "output_type": "stream",
     "text": [
      "18 / 20 [3] Solving:   5%|▍         | 6056/129197 [00:00<00:02, 60554.86it/s]"
     ]
    },
    {
     "name": "stderr",
     "output_type": "stream",
     "text": [
      "8 / 20 [1] Generating oracle caches: 100%|██████████| 200/200 [02:35<00:00,  1.29it/s]]\n",
      "\n",
      "8 / 20 [2] Generating lagrangian caches: 0it [00:00, ?it/s]]"
     ]
    },
    {
     "name": "stdout",
     "output_type": "stream",
     "text": [
      "9 / 20 [3] Solving:  23%|██▎       | 18233/78828 [00:00<00:00, 60860.96it/s]]"
     ]
    },
    {
     "name": "stderr",
     "output_type": "stream",
     "text": [
      "12 / 20 [1] Generating oracle caches: 100%|██████████| 200/200 [02:35<00:00,  1.29it/s]\n",
      "13 / 20 [1] Generating oracle caches: 100%|██████████| 200/200 [02:35<00:00,  1.29it/s]\n",
      "\n",
      "7 / 20 [1] Generating oracle caches: 100%|██████████| 200/200 [02:35<00:00,  1.29it/s]\n",
      "7 / 20 [2] Generating lagrangian caches: 0it [00:00, ?it/s]"
     ]
    },
    {
     "name": "stdout",
     "output_type": "stream",
     "text": [
      "1 / 20 [3] Solving:  27%|██▋       | 12086/44449 [00:00<00:00, 60452.23it/s]]"
     ]
    },
    {
     "name": "stderr",
     "output_type": "stream",
     "text": [
      "4 / 20 [1] Generating oracle caches: 100%|██████████| 200/200 [02:35<00:00,  1.29it/s]\n",
      "2 / 20 [1] Generating oracle caches: 100%|██████████| 200/200 [02:35<00:00,  1.29it/s]"
     ]
    },
    {
     "name": "stdout",
     "output_type": "stream",
     "text": [
      "20 / 20 [3] Solving:   9%|▊         | 12134/142072 [00:00<00:02, 60691.97it/s]"
     ]
    },
    {
     "name": "stderr",
     "output_type": "stream",
     "text": [
      "2 / 20 [1] Generating oracle caches: 100%|██████████| 200/200 [02:35<00:00,  1.29it/s]\n",
      "14 / 20 [1] Generating oracle caches: 100%|██████████| 200/200 [02:35<00:00,  1.29it/s]\n",
      "14 / 20 [2] Generating lagrangian caches: 0it [00:00, ?it/s]"
     ]
    },
    {
     "name": "stdout",
     "output_type": "stream",
     "text": [
      "3 / 20 [3] Solving:  23%|██▎       | 12173/52127 [00:00<00:00, 60880.71it/s]"
     ]
    },
    {
     "name": "stderr",
     "output_type": "stream",
     "text": [
      "6 / 20 [1] Generating oracle caches: 100%|██████████| 200/200 [02:35<00:00,  1.28it/s]\n",
      "15 / 20 [1] Generating oracle caches: 100%|██████████| 200/200 [02:35<00:00,  1.29it/s]\n",
      "15 / 20 [2] Generating lagrangian caches: 0it [00:00, ?it/s]"
     ]
    },
    {
     "name": "stdout",
     "output_type": "stream",
     "text": [
      "18 / 20 [3] Solving:   9%|▉         | 12114/129197 [00:00<00:01, 60563.82it/s]"
     ]
    },
    {
     "name": "stderr",
     "output_type": "stream",
     "text": [
      "8 / 20 [2] Generating lagrangian caches: 200it [00:00, 2027.86it/s]\n"
     ]
    },
    {
     "name": "stdout",
     "output_type": "stream",
     "text": [
      "8 / 20 [3] Solving:   0%|          | 0/73996 [00:00<?, ?it/s]"
     ]
    },
    {
     "name": "stderr",
     "output_type": "stream",
     "text": [
      "19 / 20 [2] Generating lagrangian caches: 200it [00:00, 1840.42it/s]\n"
     ]
    },
    {
     "name": "stdout",
     "output_type": "stream",
     "text": [
      "9 / 20 [3] Solving:  31%|███       | 24320/78828 [00:00<00:00, 60805.67it/s]]]"
     ]
    },
    {
     "name": "stderr",
     "output_type": "stream",
     "text": [
      "7 / 20 [2] Generating lagrangian caches: 101it [00:00, 1009.26it/s]]"
     ]
    },
    {
     "name": "stdout",
     "output_type": "stream",
     "text": [
      "1 / 20 [3] Solving:  41%|████      | 18132/44449 [00:00<00:00, 60387.24it/s]]"
     ]
    },
    {
     "name": "stderr",
     "output_type": "stream",
     "text": [
      "4 / 20 [2] Generating lagrangian caches: 109it [00:00, 1074.80it/s]"
     ]
    },
    {
     "name": "stdout",
     "output_type": "stream",
     "text": [
      "20 / 20 [3] Solving:  13%|█▎        | 18205/142072 [00:00<00:02, 60697.46it/s]"
     ]
    },
    {
     "name": "stderr",
     "output_type": "stream",
     "text": [
      "14 / 20 [2] Generating lagrangian caches: 96it [00:00, 954.53it/s]]"
     ]
    },
    {
     "name": "stdout",
     "output_type": "stream",
     "text": [
      "3 / 20 [3] Solving:  35%|███▌      | 18303/52127 [00:00<00:00, 61070.38it/s]"
     ]
    },
    {
     "name": "stderr",
     "output_type": "stream",
     "text": [
      "13 / 20 [2] Generating lagrangian caches: 200it [00:00, 1265.46it/s]\n"
     ]
    },
    {
     "name": "stdout",
     "output_type": "stream",
     "text": [
      "18 / 20 [3] Solving:  14%|█▍        | 18224/129197 [00:00<00:01, 60803.83it/s]"
     ]
    },
    {
     "name": "stderr",
     "output_type": "stream",
     "text": [
      "12 / 20 [2] Generating lagrangian caches: 200it [00:00, 1152.95it/s]\n"
     ]
    },
    {
     "name": "stdout",
     "output_type": "stream",
     "text": [
      "9 / 20 [3] Solving:  39%|███▊      | 30421/78828 [00:00<00:00, 60876.81it/s]]]"
     ]
    },
    {
     "name": "stderr",
     "output_type": "stream",
     "text": [
      "7 / 20 [2] Generating lagrangian caches: 200it [00:00, 1056.04it/s]\n"
     ]
    },
    {
     "name": "stdout",
     "output_type": "stream",
     "text": [
      "7 / 20 [3] Solving:   0%|          | 0/69316 [00:00<?, ?it/s]"
     ]
    },
    {
     "name": "stderr",
     "output_type": "stream",
     "text": [
      "17 / 20 [2] Generating lagrangian caches: 200it [00:00, 976.86it/s] \n"
     ]
    },
    {
     "name": "stdout",
     "output_type": "stream",
     "text": [
      "17 / 20 [3] Solving:   0%|          | 0/122989 [00:00<?, ?it/s]"
     ]
    },
    {
     "name": "stderr",
     "output_type": "stream",
     "text": [
      "4 / 20 [2] Generating lagrangian caches: 200it [00:00, 1110.78it/s]\n"
     ]
    },
    {
     "name": "stdout",
     "output_type": "stream",
     "text": [
      "5 / 20 [3] Solving:  60%|██████    | 36337/60416 [00:00<00:00, 60732.19it/s]"
     ]
    },
    {
     "name": "stderr",
     "output_type": "stream",
     "text": [
      "15 / 20 [2] Generating lagrangian caches: 200it [00:00, 1264.60it/s]\n"
     ]
    },
    {
     "name": "stdout",
     "output_type": "stream",
     "text": [
      "15 / 20 [3] Solving:   0%|          | 0/111032 [00:00<?, ?it/s]"
     ]
    },
    {
     "name": "stderr",
     "output_type": "stream",
     "text": [
      "14 / 20 [2] Generating lagrangian caches: 200it [00:00, 1128.43it/s]\n",
      "6 / 20 [2] Generating lagrangian caches: 200it [00:00, 1174.53it/s]\n",
      "\n"
     ]
    },
    {
     "name": "stdout",
     "output_type": "stream",
     "text": [
      "1 / 20 [3] Solving: 100%|██████████| 44449/44449 [00:00<00:00, 60383.66it/s]s]\n",
      "5 / 20 [3] Solving: 100%|██████████| 60416/60416 [00:00<00:00, 60558.58it/s]s]\n",
      "3 / 20 [3] Solving: 100%|██████████| 52127/52127 [00:00<00:00, 61039.45it/s]s]\n",
      "9 / 20 [3] Solving: 100%|██████████| 78828/78828 [00:01<00:00, 60881.33it/s]]]\n",
      "2 / 20 [3] Solving: 100%|██████████| 48211/48211 [00:00<00:00, 61137.86it/s]s]\n",
      "4 / 20 [3] Solving: 100%|██████████| 56195/56195 [00:00<00:00, 60441.45it/s]s]\n",
      "10 / 20 [3] Solving: 100%|██████████| 83813/83813 [00:01<00:00, 60935.85it/s]\n",
      "11 / 20 [3] Solving: 100%|██████████| 88951/88951 [00:01<00:00, 60675.91it/s]]\n",
      "6 / 20 [3] Solving: 100%|██████████| 64790/64790 [00:01<00:00, 61089.60it/s]]]\n",
      "8 / 20 [3] Solving: 100%|██████████| 73996/73996 [00:01<00:00, 60683.15it/s]s]\n",
      "13 / 20 [3] Solving:  73%|███████▎  | 73149/99686 [00:01<00:00, 60747.03it/s]]\n",
      "12 / 20 [3] Solving: 100%|██████████| 94242/94242 [00:01<00:00, 60612.75it/s]]]\n",
      "13 / 20 [3] Solving: 100%|██████████| 99686/99686 [00:01<00:00, 60634.03it/s]s]\n",
      "16 / 20 [3] Solving: 100%|██████████| 116934/116934 [00:01<00:00, 60587.20it/s]\n",
      "14 / 20 [3] Solving: 100%|██████████| 105283/105283 [00:01<00:00, 60846.77it/s]\n",
      "18 / 20 [3] Solving: 100%|██████████| 129197/129197 [00:02<00:00, 60624.68it/s]\n",
      "15 / 20 [3] Solving: 100%|██████████| 111032/111032 [00:01<00:00, 60862.28it/s]\n",
      "20 / 20 [3] Solving: 100%|██████████| 142072/142072 [00:02<00:00, 60807.91it/s]\n",
      "17 / 20 [3] Solving: 100%|██████████| 122989/122989 [00:02<00:00, 60689.39it/s]\n",
      "19 / 20 [3] Solving: 100%|██████████| 135558/135558 [00:02<00:00, 60581.53it/s]\n"
     ]
    }
   ],
   "source": [
    "from experiments import MainExperiment\n",
    "from tasks import BinaryLogisticClassificationTask\n",
    "\n",
    "adult_exp = MainExperiment(BinaryLogisticClassificationTask)\n",
    "\n",
    "adult_exp.task.train(X_train, y_train)\n",
    "adult_exp.task.test(X_test, y_test)\n",
    "\n",
    "adult_results = adult_exp.run(adult_params)"
   ]
  },
  {
   "cell_type": "code",
   "execution_count": 10,
   "metadata": {},
   "outputs": [],
   "source": [
    "target_alpha = 0.0\n",
    "target_r = 5.0\n",
    "\n",
    "plot_x = []\n",
    "plot_I_alpha = []\n",
    "plot_err = []\n",
    "\n",
    "for param in adult_results:\n",
    "    param_dict = {k: v for k, v in list(param)}\n",
    "\n",
    "    if param_dict[\"alpha\"] != target_alpha or param_dict[\"r\"] != target_r:\n",
    "        continue\n",
    "\n",
    "    plot_x.append(param_dict[\"gamma\"])\n",
    "    plot_I_alpha.append(adult_results[param][2])\n",
    "    plot_err.append(adult_results[param][3])"
   ]
  },
  {
   "cell_type": "code",
   "execution_count": null,
   "metadata": {},
   "outputs": [],
   "source": [
    "import matplotlib.pyplot as plt\n",
    "\n",
    "plt.plot(plot_x, plot_I_alpha)\n",
    "plt.xlabel(\"gamma\")\n",
    "plt.ylabel(\"I(alpha)\")"
   ]
  },
  {
   "cell_type": "code",
   "execution_count": null,
   "metadata": {},
   "outputs": [],
   "source": [
    "plt.plot(plot_x, plot_err)\n",
    "plt.xlabel(\"gamma\")\n",
    "plt.ylabel(\"err\")"
   ]
  },
  {
   "cell_type": "code",
   "execution_count": null,
   "metadata": {},
   "outputs": [],
   "source": []
  }
 ],
 "metadata": {
  "kernelspec": {
   "display_name": "fi",
   "language": "python",
   "name": "python3"
  },
  "language_info": {
   "codemirror_mode": {
    "name": "ipython",
    "version": 3
   },
   "file_extension": ".py",
   "mimetype": "text/x-python",
   "name": "python",
   "nbconvert_exporter": "python",
   "pygments_lexer": "ipython3",
   "version": "3.11.0"
  },
  "orig_nbformat": 4,
  "vscode": {
   "interpreter": {
    "hash": "351db885f074a0823212a4af3366fa31220fc57c4f28896155d6aad3c2084564"
   }
  }
 },
 "nbformat": 4,
 "nbformat_minor": 2
}
